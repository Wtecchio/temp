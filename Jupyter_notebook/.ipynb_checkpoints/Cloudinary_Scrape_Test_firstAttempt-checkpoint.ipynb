{
 "cells": [
  {
   "cell_type": "code",
   "execution_count": 1,
   "id": "8f4cbbcb",
   "metadata": {},
   "outputs": [],
   "source": [
    "#imports\n",
    "from splinter import Browser\n",
    "import selenium#browser\n",
    "from bs4 import BeautifulSoup as soup\n",
    "import pandas as pd\n",
    "from webdriver_manager.chrome import ChromeDriverManager\n",
    "import os\n",
    "from dotenv import load_dotenv\n",
    "load_dotenv()\n",
    "\n",
    "from pathlib import Path\n",
    "from os.path import dirname, abspath"
   ]
  },
  {
   "cell_type": "code",
   "execution_count": 2,
   "id": "e02e5e27",
   "metadata": {},
   "outputs": [],
   "source": [
    "#set up Splinter\n",
    "executable_path = {'executable_path' : ChromeDriverManager().install()}#set up the browser\n",
    "browser = Browser('chrome', headless=False)#set up the driver"
   ]
  },
  {
   "cell_type": "markdown",
   "id": "a34bc0be",
   "metadata": {},
   "source": [
    "## Visit Cloudinary and scrape"
   ]
  },
  {
   "cell_type": "code",
   "execution_count": 3,
   "id": "7aa0b158",
   "metadata": {},
   "outputs": [],
   "source": [
    "#Visit Cloudinary\n",
    "url = 'https://cloudinary.com/users/login'## Cloudinary Configuration\n",
    "browser.visit(url)"
   ]
  },
  {
   "cell_type": "code",
   "execution_count": null,
   "id": "516dd257",
   "metadata": {},
   "outputs": [],
   "source": [
    "html = browser.html\n",
    "login_soup = soup(html, 'html.parser')"
   ]
  },
  {
   "cell_type": "code",
   "execution_count": null,
   "id": "b1b83595",
   "metadata": {},
   "outputs": [],
   "source": [
    "#print (login_soup.prettify())"
   ]
  },
  {
   "cell_type": "code",
   "execution_count": 4,
   "id": "872be5b0",
   "metadata": {},
   "outputs": [],
   "source": [
    "#log in **Personal data***\n",
    "username_box = browser.find_by_name(\"user_session[email]\")#log in **Personal data**\n",
    "password_box = browser.find_by_name(\"user_session[password]\")"
   ]
  },
  {
   "cell_type": "code",
   "execution_count": null,
   "id": "46c5f74d",
   "metadata": {},
   "outputs": [],
   "source": [
    "#fill in the boxs\n",
    "username_box.fill(os.getenv(\"username_profile\"))\n",
    "password_box.fill(os.getenv(\"password_profile\"))\n",
    "\n",
    "#submit and log in\n",
    "submit = browser.find_by_(\"sign-in\").first.click()\n"
   ]
  },
  {
   "cell_type": "code",
   "execution_count": null,
   "id": "7222cb4c",
   "metadata": {},
   "outputs": [],
   "source": [
    "#open media library\n",
    "browser.visit(\"https://console.cloudinary.com/console/media_library\")"
   ]
  },
  {
   "cell_type": "code",
   "execution_count": null,
   "id": "882f8134",
   "metadata": {},
   "outputs": [],
   "source": [
    "find_h=browser.find_by_css('div[class=\"tc h-inherit flex flex-column justify-center items-center thumbnail-img h-100 w-100\"] img')"
   ]
  },
  {
   "cell_type": "code",
   "execution_count": null,
   "id": "396efb9e",
   "metadata": {},
   "outputs": [],
   "source": [
    "find_h"
   ]
  },
  {
   "cell_type": "code",
   "execution_count": null,
   "id": "a5971080",
   "metadata": {},
   "outputs": [],
   "source": []
  }
 ],
 "metadata": {
  "kernelspec": {
   "display_name": "Python 3 (ipykernel)",
   "language": "python",
   "name": "python3"
  },
  "language_info": {
   "codemirror_mode": {
    "name": "ipython",
    "version": 3
   },
   "file_extension": ".py",
   "mimetype": "text/x-python",
   "name": "python",
   "nbconvert_exporter": "python",
   "pygments_lexer": "ipython3",
   "version": "3.9.12"
  }
 },
 "nbformat": 4,
 "nbformat_minor": 5
}
